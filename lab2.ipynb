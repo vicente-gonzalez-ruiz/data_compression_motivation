{
 "cells": [
  {
   "cell_type": "markdown",
   "metadata": {},
   "source": [
    "### Lab\n",
    "Compare two images, a original and a decompressed one."
   ]
  },
  {
   "cell_type": "code",
   "execution_count": null,
   "metadata": {},
   "outputs": [],
   "source": [
    "!pwd\n",
    "!if [ ! -f Homer.png ]; then \\\n",
    "  echo Homer.png not found; \\\n",
    "  wget http://www.hpca.ual.es/~vruiz/images/Homer.png; \\\n",
    "else \\\n",
    "  echo \"Homer.png found :-)\"; \\\n",
    "fi"
   ]
  },
  {
   "cell_type": "code",
   "execution_count": null,
   "metadata": {},
   "outputs": [],
   "source": [
    "import IPython\n",
    "#from IPython.display import Image\n",
    "IPython.display.Image(\"Homer.png\")"
   ]
  },
  {
   "cell_type": "code",
   "execution_count": null,
   "metadata": {
    "scrolled": true
   },
   "outputs": [],
   "source": [
    "!echo `wc -c < Homer.png` bytes"
   ]
  },
  {
   "cell_type": "code",
   "execution_count": null,
   "metadata": {},
   "outputs": [],
   "source": [
    "!convert -quality 40 Homer.png Homer.jp2\n",
    "!convert Homer.jp2 Homer_jp2.png\n",
    "\n",
    "# Note: in OSX, install imagemagick with: \"brew install imagemagick --with-openjpeg\"\n",
    "\n",
    "# Note: in Debian's, install with:\n",
    "#\n",
    "# sudo apt-get remove imagemagick\n",
    "# sudo apt-get install pkg-config\n",
    "# sudo apt-get install libjpeg-dev\n",
    "# sudo apt-get install libpng-dev\n",
    "# sudo apt-get install libopenjp2-7-dev\n",
    "# sudo apt-get install libx11-dev\n",
    "# sudo apt-get install build-essential\n",
    "# sudo apt-get build-dep imagemagick -y\n",
    "# wget http://www.imagemagick.org/download/ImageMagick.tar.gz\n",
    "# tar xzvf ImageMagick.tar.gz\n",
    "# cd ImageMagick<tab>\n",
    "# ./configure --with-openjp2=yes --with-png=yes --with-jpeg=yes --with-x=yes\n",
    "# Revise in the configure's output that the required delegates has been seen by ImageMagick.\n",
    "# make\n",
    "# sudo make install\n",
    "#\n",
    "# PATH=$PATH:/usr/local/bin\n",
    "# convert --version\n",
    "# # if error:\n",
    "# sudo ldconfig /user/local/lib\n",
    "#\n",
    "# identify -list format | grep -i JP2\n",
    "#      JP2* rw-   JPEG-2000 File Format Syntax (2.1.0)"
   ]
  },
  {
   "cell_type": "code",
   "execution_count": null,
   "metadata": {},
   "outputs": [],
   "source": [
    "IPython.display.Image(\"Homer_jp2.png\")"
   ]
  },
  {
   "cell_type": "code",
   "execution_count": null,
   "metadata": {},
   "outputs": [],
   "source": [
    "!echo `wc -c < Homer.jp2` bytes"
   ]
  },
  {
   "cell_type": "code",
   "execution_count": null,
   "metadata": {},
   "outputs": [],
   "source": [
    "# Be sure that: \"pip install pillow\" was run\n",
    "from PIL import Image, ImageChops, ImageOps"
   ]
  },
  {
   "cell_type": "code",
   "execution_count": null,
   "metadata": {},
   "outputs": [],
   "source": [
    "orig = Image.open('Homer.png')\n",
    "comp = Image.open('Homer_jp2.png')\n",
    "diff = ImageChops.subtract(orig, comp)\n",
    "diff = ImageOps.equalize(diff)\n",
    "diff.save('diff.png')"
   ]
  },
  {
   "cell_type": "code",
   "execution_count": 1,
   "metadata": {},
   "outputs": [
    {
     "ename": "NameError",
     "evalue": "name 'IPython' is not defined",
     "output_type": "error",
     "traceback": [
      "\u001b[0;31m-----------------------------------------------------------------------\u001b[0m",
      "\u001b[0;31mNameError\u001b[0m                             Traceback (most recent call last)",
      "\u001b[0;32m<ipython-input-1-6b8cf9922074>\u001b[0m in \u001b[0;36m<module>\u001b[0;34m()\u001b[0m\n\u001b[0;32m----> 1\u001b[0;31m \u001b[0mIPython\u001b[0m\u001b[0;34m.\u001b[0m\u001b[0mdisplay\u001b[0m\u001b[0;34m.\u001b[0m\u001b[0mImage\u001b[0m\u001b[0;34m(\u001b[0m\u001b[0;34m\"diff.png\"\u001b[0m\u001b[0;34m)\u001b[0m\u001b[0;34m\u001b[0m\u001b[0m\n\u001b[0m",
      "\u001b[0;31mNameError\u001b[0m: name 'IPython' is not defined"
     ]
    }
   ],
   "source": [
    "IPython.display.Image(\"diff.png\")"
   ]
  },
  {
   "cell_type": "code",
   "execution_count": null,
   "metadata": {},
   "outputs": [],
   "source": []
  }
 ],
 "metadata": {
  "celltoolbar": "Slideshow",
  "kernelspec": {
   "display_name": "Python 3",
   "language": "python",
   "name": "python3"
  },
  "language_info": {
   "codemirror_mode": {
    "name": "ipython",
    "version": 3
   },
   "file_extension": ".py",
   "mimetype": "text/x-python",
   "name": "python",
   "nbconvert_exporter": "python",
   "pygments_lexer": "ipython3",
   "version": "3.6.4"
  }
 },
 "nbformat": 4,
 "nbformat_minor": 1
}
