{
 "cells": [
  {
   "cell_type": "markdown",
   "metadata": {
    "slideshow": {
     "slide_type": "slide"
    }
   },
   "source": [
    "# Why to compress?\n",
    "\n",
    "* Data compression can reduce the memory requirements of (almost) any kind of\n",
    "  information source."
   ]
  },
  {
   "cell_type": "markdown",
   "metadata": {
    "slideshow": {
     "slide_type": "slide"
    }
   },
   "source": [
    "### Which data?\n",
    "\n",
    "* Mainly ... audio, image, and video signals."
   ]
  },
  {
   "cell_type": "markdown",
   "metadata": {
    "slideshow": {
     "slide_type": "slide"
    }
   },
   "source": [
    "### Why these sources?\n",
    "\n",
    "* After the digitalization of any signal we get a sequence $s[]$\n",
    "  of samples that represent the signal $s$ with more or less fidelity.\n",
    "  \n",
    "* Usually, $s[]$ is encoded using PCM (Pulse Code Modulation), in which\n",
    "  every sample $s[i]$ is represented with the same number of bits.\n",
    "  \n",
    "* Most digital PCM signals are memory demanding. For\n",
    "  example, in a CD we have a data-rate of\n",
    "  \n",
    "\\begin{equation}\n",
    "    (16+16)\\frac{\\text{bits}}{\\text{sample}}\\times\n",
    "    44{.}100\\frac{\\text{samples}}{\\text{second}}=\n",
    "    1{.}411{.}200\\frac{\\text{bits}}{\\text{second}}.\n",
    "\\end{equation}\n",
    "  \n",
    "* Image and video signals require much more memory."
   ]
  },
  {
   "cell_type": "markdown",
   "metadata": {},
   "source": [
    "### Lab (audio comparison)\n",
    "\n",
    "TO-DO\n",
    "\n",
    "Compress a WAV audio file to MP3 with LAME at 128 kbps. Decompress to obtain again a WAV file. Substract the original and the decompressed WAVs and listen it."
   ]
  },
  {
   "cell_type": "markdown",
   "metadata": {},
   "source": [
    "### Lab\n",
    "Compare two images, a original and a decompressed one."
   ]
  },
  {
   "cell_type": "code",
   "execution_count": null,
   "metadata": {},
   "outputs": [],
   "source": [
    "!pwd\n",
    "!if [ ! -f Homer.png ]; then \\\n",
    "  echo Homer.png not found; \\\n",
    "  wget http://www.hpca.ual.es/~vruiz/images/Homer.png; \\\n",
    "else \\\n",
    "  echo \"Homer.png found :-)\"; \\\n",
    "fi"
   ]
  },
  {
   "cell_type": "code",
   "execution_count": null,
   "metadata": {},
   "outputs": [],
   "source": [
    "import IPython\n",
    "#from IPython.display import Image\n",
    "IPython.display.Image(\"Homer.png\")"
   ]
  },
  {
   "cell_type": "code",
   "execution_count": null,
   "metadata": {
    "scrolled": true
   },
   "outputs": [],
   "source": [
    "!echo `wc -c < Homer.png` bytes"
   ]
  },
  {
   "cell_type": "code",
   "execution_count": null,
   "metadata": {},
   "outputs": [],
   "source": [
    "!convert -quality 40 Homer.png Homer.jp2\n",
    "!convert Homer.jp2 Homer_jp2.png\n",
    "\n",
    "# Note: in OSX, install imagemagick with: \"brew install imagemagick --with-openjpeg\"\n",
    "\n",
    "# Note: in Debian's, install with:\n",
    "#\n",
    "# sudo apt-get remove imagemagick\n",
    "# sudo apt-get install pkg-config\n",
    "# sudo apt-get install libjpeg-dev\n",
    "# sudo apt-get install libpng-dev\n",
    "# sudo apt-get install libopenjp2-7-dev\n",
    "# sudo apt-get install libx11-dev\n",
    "# sudo apt-get install build-essential\n",
    "# sudo apt-get build-dep imagemagick -y\n",
    "# wget http://www.imagemagick.org/download/ImageMagick.tar.gz\n",
    "# tar xzvf ImageMagick.tar.gz\n",
    "# cd ImageMagick<tab>\n",
    "# ./configure --with-openjp2=yes --with-png=yes --with-jpeg=yes --with-x=yes\n",
    "# Revise in the configure's output that the required delegates has been seen by ImageMagick.\n",
    "# make\n",
    "# sudo make install\n",
    "#\n",
    "# PATH=$PATH:/usr/local/bin\n",
    "# convert --version\n",
    "# # if error:\n",
    "# sudo ldconfig /user/local/lib\n",
    "#\n",
    "# identify -list format | grep -i JP2\n",
    "#      JP2* rw-   JPEG-2000 File Format Syntax (2.1.0)"
   ]
  },
  {
   "cell_type": "code",
   "execution_count": null,
   "metadata": {},
   "outputs": [],
   "source": [
    "IPython.display.Image(\"Homer_jp2.png\")"
   ]
  },
  {
   "cell_type": "code",
   "execution_count": null,
   "metadata": {},
   "outputs": [],
   "source": [
    "!echo `wc -c < Homer.jp2` bytes"
   ]
  },
  {
   "cell_type": "code",
   "execution_count": null,
   "metadata": {},
   "outputs": [],
   "source": [
    "# Be sure that: \"pip install pillow\" was run\n",
    "from PIL import Image, ImageChops, ImageOps"
   ]
  },
  {
   "cell_type": "code",
   "execution_count": null,
   "metadata": {},
   "outputs": [],
   "source": [
    "orig = Image.open('Homer.png')\n",
    "comp = Image.open('Homer_jp2.png')\n",
    "diff = ImageChops.subtract(orig, comp)\n",
    "diff = ImageOps.equalize(diff)\n",
    "diff.save('diff.png')"
   ]
  },
  {
   "cell_type": "code",
   "execution_count": null,
   "metadata": {},
   "outputs": [],
   "source": [
    "IPython.display.Image(\"diff.png\")"
   ]
  },
  {
   "cell_type": "markdown",
   "metadata": {},
   "source": [
    "## Memory requirements of PCM video\n",
    "\n",
    "* In RGB (PCM) video, each color pixel need at least 24 bpp (bits/pixel).\n",
    "\n",
    "* The memory requirements of RGB video are enormous. For example, an hour of $640\\times 480\\times 25$ Hz true-color of PCM video needs:\n",
    "\n",
    "\\begin{equation}\n",
    "    25\\frac{\\text{images}}{\\text{second}}\\times\n",
    "    640\\cdot 480\\frac{\\text{pixels}}{\\text{image}}\\times\n",
    "    24\\frac{\\text{bits}}{\\text{pixel}}=\n",
    "    184{.}320{.}000\\frac{\\text{bits}}{\\text{second}}\n",
    "\\end{equation}\n",
    "\n",
    "\\begin{equation}\n",
    "    184{.}320{.}000\\frac{\\text{bits}}{\\text{second}} \\times\n",
    "    3{.}600\\frac{\\text{seconds}}{\\text{hour}} \\times\n",
    "    \\frac{1~\\text{G}}{1{.}024^3}\\times\n",
    "    \\frac{1~\\text{byte}}{8~\\text{bits}} \\approx\n",
    "    77~\\text{Gbytes}\n",
    "\\end{equation}\n",
    "\n",
    "* Video coding techniques should be used to compress this data. Most of these techniques are bases on Block-based Motion Estimation."
   ]
  }
 ],
 "metadata": {
  "celltoolbar": "Slideshow",
  "kernelspec": {
   "display_name": "Python 3",
   "language": "python",
   "name": "python3"
  },
  "language_info": {
   "codemirror_mode": {
    "name": "ipython",
    "version": 3
   },
   "file_extension": ".py",
   "mimetype": "text/x-python",
   "name": "python",
   "nbconvert_exporter": "python",
   "pygments_lexer": "ipython3",
   "version": "3.6.4"
  }
 },
 "nbformat": 4,
 "nbformat_minor": 1
}
